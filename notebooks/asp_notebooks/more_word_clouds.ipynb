{
 "cells": [
  {
   "cell_type": "code",
   "execution_count": 1,
   "metadata": {},
   "outputs": [],
   "source": [
    "import re\n",
    "import numpy as np\n",
    "import io\n",
    "import pandas as pd\n",
    "import matplotlib.pyplot as plt\n",
    "from wordcloud import WordCloud\n",
    "from PIL import Image\n",
    "import PIL.ImageOps\n",
    "from wordcloud import ImageColorGenerator\n",
    "import string\n",
    "import unicodedata\n",
    "from nltk.corpus import stopwords\n",
    "import nltk\n",
    "from contractions import CONTRACTION_MAP\n",
    "import spacy\n",
    "import random\n",
    "from spacy.lang.en import English\n",
    "nlp = English()"
   ]
  },
  {
   "cell_type": "code",
   "execution_count": 2,
   "metadata": {},
   "outputs": [],
   "source": [
    "nlp = English()"
   ]
  },
  {
   "cell_type": "code",
   "execution_count": 3,
   "metadata": {},
   "outputs": [
    {
     "name": "stdout",
     "output_type": "stream",
     "text": [
      "                                          tweet_text\n",
      "0  @jessedee Know about @fludapp ? Awesome iPad/i...\n",
      "1  @swonderlin Can not wait for #iPad 2 also. The...\n",
      "2  Beautifully smart and simple idea RT @madebyma...\n",
      "3  Counting down the days to #sxsw plus strong Ca...\n",
      "4  Great #sxsw ipad app from @madebymany: http://...\n",
      "(1949, 1)\n"
     ]
    }
   ],
   "source": [
    "import sqlite3 as sl\n",
    "\n",
    "con = sl.connect('tweets')\n",
    "\n",
    "apple_positive = pd.read_sql(\"\"\"\n",
    "                    SELECT tweet_text\n",
    "                    FROM tweets\n",
    "                    WHERE apple_product = '1'\n",
    "                        AND pos_rev = '1'\n",
    "                    \"\"\",con)\n",
    "print(apple_positive.head())\n",
    "print(apple_positive.shape)"
   ]
  },
  {
   "cell_type": "code",
   "execution_count": null,
   "metadata": {},
   "outputs": [],
   "source": []
  }
 ],
 "metadata": {
  "kernelspec": {
   "display_name": "learn-env",
   "language": "python",
   "name": "learn-env"
  },
  "language_info": {
   "codemirror_mode": {
    "name": "ipython",
    "version": 3
   },
   "file_extension": ".py",
   "mimetype": "text/x-python",
   "name": "python",
   "nbconvert_exporter": "python",
   "pygments_lexer": "ipython3",
   "version": "3.6.9"
  }
 },
 "nbformat": 4,
 "nbformat_minor": 4
}
