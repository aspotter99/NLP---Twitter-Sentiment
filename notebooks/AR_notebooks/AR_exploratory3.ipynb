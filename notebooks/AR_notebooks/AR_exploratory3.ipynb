{
 "cells": [
  {
   "cell_type": "code",
   "execution_count": 1,
   "metadata": {},
   "outputs": [
    {
     "name": "stderr",
     "output_type": "stream",
     "text": [
      "[nltk_data] Downloading package stopwords to\n",
      "[nltk_data]     /Users/adamroth/nltk_data...\n",
      "[nltk_data]   Package stopwords is already up-to-date!\n"
     ]
    }
   ],
   "source": [
    "import pandas as pd\n",
    "import nltk\n",
    "from nltk.corpus import stopwords\n",
    "nltk.download('stopwords')\n",
    "from nltk.probability import FreqDist\n",
    "import re\n",
    "from nltk.tokenize import regexp_tokenize, word_tokenize, RegexpTokenizer\n",
    "from nltk.stem import *\n",
    "from nltk.stem import WordNetLemmatizer \n",
    "from nltk import pos_tag\n",
    "from nltk.corpus import wordnet\n",
    "from sklearn.feature_extraction.text import CountVectorizer\n",
    "from sklearn.feature_extraction.text import TfidfVectorizer\n",
    "import os\n",
    "import string\n"
   ]
  },
  {
   "cell_type": "code",
   "execution_count": 2,
   "metadata": {},
   "outputs": [
    {
     "data": {
      "text/plain": [
       "'/Users/adamroth/Documents/flat_fe_work/mod4/week13/NLP---Twitter-Sentiment/notebooks/AR_notebooks'"
      ]
     },
     "execution_count": 2,
     "metadata": {},
     "output_type": "execute_result"
    }
   ],
   "source": [
    "path = os.getcwd()\n",
    "path"
   ]
  },
  {
   "cell_type": "markdown",
   "metadata": {},
   "source": [
    "### basic info"
   ]
  },
  {
   "cell_type": "code",
   "execution_count": 3,
   "metadata": {},
   "outputs": [],
   "source": [
    "raw_data = pd.read_csv('../../data/judge-1377884607_tweet_product_company.csv', encoding = 'latin1')"
   ]
  },
  {
   "cell_type": "code",
   "execution_count": 4,
   "metadata": {},
   "outputs": [
    {
     "data": {
      "text/html": [
       "<div>\n",
       "<style scoped>\n",
       "    .dataframe tbody tr th:only-of-type {\n",
       "        vertical-align: middle;\n",
       "    }\n",
       "\n",
       "    .dataframe tbody tr th {\n",
       "        vertical-align: top;\n",
       "    }\n",
       "\n",
       "    .dataframe thead th {\n",
       "        text-align: right;\n",
       "    }\n",
       "</style>\n",
       "<table border=\"1\" class=\"dataframe\">\n",
       "  <thead>\n",
       "    <tr style=\"text-align: right;\">\n",
       "      <th></th>\n",
       "      <th>tweet_text</th>\n",
       "      <th>emotion_in_tweet_is_directed_at</th>\n",
       "      <th>is_there_an_emotion_directed_at_a_brand_or_product</th>\n",
       "    </tr>\n",
       "  </thead>\n",
       "  <tbody>\n",
       "    <tr>\n",
       "      <td>4323</td>\n",
       "      <td>Srsly? ÛÏ@mention It's not a rumor: Apple is ...</td>\n",
       "      <td>iPad</td>\n",
       "      <td>Positive emotion</td>\n",
       "    </tr>\n",
       "    <tr>\n",
       "      <td>2928</td>\n",
       "      <td>Next presentation - Google's Marissa Mayer. Sh...</td>\n",
       "      <td>Google</td>\n",
       "      <td>Positive emotion</td>\n",
       "    </tr>\n",
       "    <tr>\n",
       "      <td>7177</td>\n",
       "      <td>It just got real. Apple Store #SXSW {link}</td>\n",
       "      <td>NaN</td>\n",
       "      <td>No emotion toward brand or product</td>\n",
       "    </tr>\n",
       "    <tr>\n",
       "      <td>4308</td>\n",
       "      <td>If only @mention brought up the Google Whiteli...</td>\n",
       "      <td>NaN</td>\n",
       "      <td>No emotion toward brand or product</td>\n",
       "    </tr>\n",
       "    <tr>\n",
       "      <td>7555</td>\n",
       "      <td>&amp;quot;O frabjous day ! Callooh ! Callay !Û_[B...</td>\n",
       "      <td>iPad</td>\n",
       "      <td>Positive emotion</td>\n",
       "    </tr>\n",
       "    <tr>\n",
       "      <td>6779</td>\n",
       "      <td>RT @mention Theres a class war forming here at...</td>\n",
       "      <td>NaN</td>\n",
       "      <td>No emotion toward brand or product</td>\n",
       "    </tr>\n",
       "    <tr>\n",
       "      <td>5890</td>\n",
       "      <td>RT @mention Google to Launch Major New Social ...</td>\n",
       "      <td>NaN</td>\n",
       "      <td>No emotion toward brand or product</td>\n",
       "    </tr>\n",
       "    <tr>\n",
       "      <td>6131</td>\n",
       "      <td>RT @mention In my next life I'm coming back as...</td>\n",
       "      <td>iPad</td>\n",
       "      <td>Positive emotion</td>\n",
       "    </tr>\n",
       "    <tr>\n",
       "      <td>1441</td>\n",
       "      <td>Confirmed! Apple store 2 week popup in Austin ...</td>\n",
       "      <td>NaN</td>\n",
       "      <td>No emotion toward brand or product</td>\n",
       "    </tr>\n",
       "    <tr>\n",
       "      <td>2622</td>\n",
       "      <td>Short line at the Apple pop up store in Austin...</td>\n",
       "      <td>Apple</td>\n",
       "      <td>Positive emotion</td>\n",
       "    </tr>\n",
       "    <tr>\n",
       "      <td>5067</td>\n",
       "      <td>RT @mention ÛÏ@mention Google to Launch Major...</td>\n",
       "      <td>NaN</td>\n",
       "      <td>No emotion toward brand or product</td>\n",
       "    </tr>\n",
       "    <tr>\n",
       "      <td>7471</td>\n",
       "      <td>#sxsw #sxprotect  {link} is the Google Doc to ...</td>\n",
       "      <td>Other Google product or service</td>\n",
       "      <td>Positive emotion</td>\n",
       "    </tr>\n",
       "    <tr>\n",
       "      <td>315</td>\n",
       "      <td>Unloading at #apple store corner of 6th and co...</td>\n",
       "      <td>NaN</td>\n",
       "      <td>No emotion toward brand or product</td>\n",
       "    </tr>\n",
       "    <tr>\n",
       "      <td>3814</td>\n",
       "      <td>Win free iPad 2 from webdoc.com #sxsw RT</td>\n",
       "      <td>iPad</td>\n",
       "      <td>Positive emotion</td>\n",
       "    </tr>\n",
       "    <tr>\n",
       "      <td>3440</td>\n",
       "      <td>Beware, the android #sxsw app for schedules is...</td>\n",
       "      <td>Android App</td>\n",
       "      <td>Negative emotion</td>\n",
       "    </tr>\n",
       "  </tbody>\n",
       "</table>\n",
       "</div>"
      ],
      "text/plain": [
       "                                             tweet_text  \\\n",
       "4323  Srsly? ÛÏ@mention It's not a rumor: Apple is ...   \n",
       "2928  Next presentation - Google's Marissa Mayer. Sh...   \n",
       "7177         It just got real. Apple Store #SXSW {link}   \n",
       "4308  If only @mention brought up the Google Whiteli...   \n",
       "7555  &quot;O frabjous day ! Callooh ! Callay !Û_[B...   \n",
       "6779  RT @mention Theres a class war forming here at...   \n",
       "5890  RT @mention Google to Launch Major New Social ...   \n",
       "6131  RT @mention In my next life I'm coming back as...   \n",
       "1441  Confirmed! Apple store 2 week popup in Austin ...   \n",
       "2622  Short line at the Apple pop up store in Austin...   \n",
       "5067  RT @mention ÛÏ@mention Google to Launch Major...   \n",
       "7471  #sxsw #sxprotect  {link} is the Google Doc to ...   \n",
       "315   Unloading at #apple store corner of 6th and co...   \n",
       "3814           Win free iPad 2 from webdoc.com #sxsw RT   \n",
       "3440  Beware, the android #sxsw app for schedules is...   \n",
       "\n",
       "      emotion_in_tweet_is_directed_at  \\\n",
       "4323                             iPad   \n",
       "2928                           Google   \n",
       "7177                              NaN   \n",
       "4308                              NaN   \n",
       "7555                             iPad   \n",
       "6779                              NaN   \n",
       "5890                              NaN   \n",
       "6131                             iPad   \n",
       "1441                              NaN   \n",
       "2622                            Apple   \n",
       "5067                              NaN   \n",
       "7471  Other Google product or service   \n",
       "315                               NaN   \n",
       "3814                             iPad   \n",
       "3440                      Android App   \n",
       "\n",
       "     is_there_an_emotion_directed_at_a_brand_or_product  \n",
       "4323                                   Positive emotion  \n",
       "2928                                   Positive emotion  \n",
       "7177                 No emotion toward brand or product  \n",
       "4308                 No emotion toward brand or product  \n",
       "7555                                   Positive emotion  \n",
       "6779                 No emotion toward brand or product  \n",
       "5890                 No emotion toward brand or product  \n",
       "6131                                   Positive emotion  \n",
       "1441                 No emotion toward brand or product  \n",
       "2622                                   Positive emotion  \n",
       "5067                 No emotion toward brand or product  \n",
       "7471                                   Positive emotion  \n",
       "315                  No emotion toward brand or product  \n",
       "3814                                   Positive emotion  \n",
       "3440                                   Negative emotion  "
      ]
     },
     "execution_count": 4,
     "metadata": {},
     "output_type": "execute_result"
    }
   ],
   "source": [
    "raw_data.sample(15)"
   ]
  },
  {
   "cell_type": "code",
   "execution_count": 5,
   "metadata": {},
   "outputs": [
    {
     "data": {
      "text/plain": [
       "8048       NaN\n",
       "4111     Apple\n",
       "7159    Google\n",
       "3378       NaN\n",
       "2157     Apple\n",
       "3385     Apple\n",
       "7975       NaN\n",
       "1411       NaN\n",
       "8481       NaN\n",
       "7396       NaN\n",
       "Name: emotion_in_tweet_is_directed_at, dtype: object"
      ]
     },
     "execution_count": 5,
     "metadata": {},
     "output_type": "execute_result"
    }
   ],
   "source": [
    "raw_data['emotion_in_tweet_is_directed_at'].sample(10)"
   ]
  },
  {
   "cell_type": "code",
   "execution_count": 6,
   "metadata": {},
   "outputs": [
    {
     "data": {
      "text/plain": [
       "array(['iPhone', 'iPad or iPhone App', 'iPad', 'Google', nan, 'Android',\n",
       "       'Apple', 'Android App', 'Other Google product or service',\n",
       "       'Other Apple product or service'], dtype=object)"
      ]
     },
     "execution_count": 6,
     "metadata": {},
     "output_type": "execute_result"
    }
   ],
   "source": [
    "raw_data['emotion_in_tweet_is_directed_at'].unique()"
   ]
  },
  {
   "cell_type": "code",
   "execution_count": 7,
   "metadata": {},
   "outputs": [
    {
     "data": {
      "text/html": [
       "<div>\n",
       "<style scoped>\n",
       "    .dataframe tbody tr th:only-of-type {\n",
       "        vertical-align: middle;\n",
       "    }\n",
       "\n",
       "    .dataframe tbody tr th {\n",
       "        vertical-align: top;\n",
       "    }\n",
       "\n",
       "    .dataframe thead th {\n",
       "        text-align: right;\n",
       "    }\n",
       "</style>\n",
       "<table border=\"1\" class=\"dataframe\">\n",
       "  <thead>\n",
       "    <tr style=\"text-align: right;\">\n",
       "      <th></th>\n",
       "      <th>tweet_text</th>\n",
       "      <th>emotion_in_tweet_is_directed_at</th>\n",
       "      <th>is_there_an_emotion_directed_at_a_brand_or_product</th>\n",
       "    </tr>\n",
       "  </thead>\n",
       "  <tbody>\n",
       "    <tr>\n",
       "      <td>0</td>\n",
       "      <td>False</td>\n",
       "      <td>False</td>\n",
       "      <td>False</td>\n",
       "    </tr>\n",
       "    <tr>\n",
       "      <td>1</td>\n",
       "      <td>False</td>\n",
       "      <td>False</td>\n",
       "      <td>False</td>\n",
       "    </tr>\n",
       "    <tr>\n",
       "      <td>2</td>\n",
       "      <td>False</td>\n",
       "      <td>False</td>\n",
       "      <td>False</td>\n",
       "    </tr>\n",
       "    <tr>\n",
       "      <td>3</td>\n",
       "      <td>False</td>\n",
       "      <td>False</td>\n",
       "      <td>False</td>\n",
       "    </tr>\n",
       "    <tr>\n",
       "      <td>4</td>\n",
       "      <td>False</td>\n",
       "      <td>False</td>\n",
       "      <td>False</td>\n",
       "    </tr>\n",
       "    <tr>\n",
       "      <td>...</td>\n",
       "      <td>...</td>\n",
       "      <td>...</td>\n",
       "      <td>...</td>\n",
       "    </tr>\n",
       "    <tr>\n",
       "      <td>9088</td>\n",
       "      <td>False</td>\n",
       "      <td>False</td>\n",
       "      <td>False</td>\n",
       "    </tr>\n",
       "    <tr>\n",
       "      <td>9089</td>\n",
       "      <td>False</td>\n",
       "      <td>True</td>\n",
       "      <td>False</td>\n",
       "    </tr>\n",
       "    <tr>\n",
       "      <td>9090</td>\n",
       "      <td>False</td>\n",
       "      <td>True</td>\n",
       "      <td>False</td>\n",
       "    </tr>\n",
       "    <tr>\n",
       "      <td>9091</td>\n",
       "      <td>False</td>\n",
       "      <td>True</td>\n",
       "      <td>False</td>\n",
       "    </tr>\n",
       "    <tr>\n",
       "      <td>9092</td>\n",
       "      <td>False</td>\n",
       "      <td>True</td>\n",
       "      <td>False</td>\n",
       "    </tr>\n",
       "  </tbody>\n",
       "</table>\n",
       "<p>9093 rows × 3 columns</p>\n",
       "</div>"
      ],
      "text/plain": [
       "      tweet_text  emotion_in_tweet_is_directed_at  \\\n",
       "0          False                            False   \n",
       "1          False                            False   \n",
       "2          False                            False   \n",
       "3          False                            False   \n",
       "4          False                            False   \n",
       "...          ...                              ...   \n",
       "9088       False                            False   \n",
       "9089       False                             True   \n",
       "9090       False                             True   \n",
       "9091       False                             True   \n",
       "9092       False                             True   \n",
       "\n",
       "      is_there_an_emotion_directed_at_a_brand_or_product  \n",
       "0                                                 False   \n",
       "1                                                 False   \n",
       "2                                                 False   \n",
       "3                                                 False   \n",
       "4                                                 False   \n",
       "...                                                 ...   \n",
       "9088                                              False   \n",
       "9089                                              False   \n",
       "9090                                              False   \n",
       "9091                                              False   \n",
       "9092                                              False   \n",
       "\n",
       "[9093 rows x 3 columns]"
      ]
     },
     "execution_count": 7,
     "metadata": {},
     "output_type": "execute_result"
    }
   ],
   "source": [
    "raw_data.isna()"
   ]
  },
  {
   "cell_type": "code",
   "execution_count": 8,
   "metadata": {},
   "outputs": [
    {
     "data": {
      "text/plain": [
       "tweet_text                                            object\n",
       "emotion_in_tweet_is_directed_at                       object\n",
       "is_there_an_emotion_directed_at_a_brand_or_product    object\n",
       "dtype: object"
      ]
     },
     "execution_count": 8,
     "metadata": {},
     "output_type": "execute_result"
    }
   ],
   "source": [
    "raw_data.dtypes"
   ]
  },
  {
   "cell_type": "code",
   "execution_count": 9,
   "metadata": {},
   "outputs": [
    {
     "data": {
      "text/plain": [
       "iPad                               946\n",
       "Apple                              661\n",
       "iPad or iPhone App                 470\n",
       "Google                             430\n",
       "iPhone                             297\n",
       "Other Google product or service    293\n",
       "Android App                         81\n",
       "Android                             78\n",
       "Other Apple product or service      35\n",
       "Name: emotion_in_tweet_is_directed_at, dtype: int64"
      ]
     },
     "execution_count": 9,
     "metadata": {},
     "output_type": "execute_result"
    }
   ],
   "source": [
    "raw_data['emotion_in_tweet_is_directed_at'].value_counts()"
   ]
  },
  {
   "cell_type": "code",
   "execution_count": 10,
   "metadata": {},
   "outputs": [],
   "source": [
    "#lots of nan's in this column, shouldn't matter while training model though"
   ]
  },
  {
   "cell_type": "code",
   "execution_count": 11,
   "metadata": {
    "scrolled": false
   },
   "outputs": [
    {
     "data": {
      "text/plain": [
       "No emotion toward brand or product    5389\n",
       "Positive emotion                      2978\n",
       "Negative emotion                       570\n",
       "I can't tell                           156\n",
       "Name: is_there_an_emotion_directed_at_a_brand_or_product, dtype: int64"
      ]
     },
     "execution_count": 11,
     "metadata": {},
     "output_type": "execute_result"
    }
   ],
   "source": [
    "raw_data['is_there_an_emotion_directed_at_a_brand_or_product'].value_counts()"
   ]
  },
  {
   "cell_type": "code",
   "execution_count": 12,
   "metadata": {},
   "outputs": [],
   "source": [
    "#not many negatives, might need to mess with that, could use something like smote, might remove all from 'I cant tell'"
   ]
  },
  {
   "cell_type": "markdown",
   "metadata": {},
   "source": [
    "### Tokenization"
   ]
  },
  {
   "cell_type": "code",
   "execution_count": 13,
   "metadata": {},
   "outputs": [
    {
     "ename": "NameError",
     "evalue": "name 'i' is not defined",
     "output_type": "error",
     "traceback": [
      "\u001b[0;31m---------------------------------------------------------------------------\u001b[0m",
      "\u001b[0;31mNameError\u001b[0m                                 Traceback (most recent call last)",
      "\u001b[0;32m<ipython-input-13-f6ec24981925>\u001b[0m in \u001b[0;36m<module>\u001b[0;34m\u001b[0m\n\u001b[0;32m----> 1\u001b[0;31m \u001b[0mraw_data\u001b[0m\u001b[0;34m.\u001b[0m\u001b[0miloc\u001b[0m\u001b[0;34m[\u001b[0m\u001b[0mi\u001b[0m\u001b[0;34m]\u001b[0m\u001b[0;34m.\u001b[0m\u001b[0mtweet_text\u001b[0m\u001b[0;34m\u001b[0m\u001b[0;34m\u001b[0m\u001b[0m\n\u001b[0m",
      "\u001b[0;31mNameError\u001b[0m: name 'i' is not defined"
     ]
    }
   ],
   "source": [
    "raw_data.iloc[i].tweet_text"
   ]
  },
  {
   "cell_type": "code",
   "execution_count": 14,
   "metadata": {},
   "outputs": [
    {
     "data": {
      "text/plain": [
       "['.@wesley83',\n",
       " 'I',\n",
       " 'have',\n",
       " 'a',\n",
       " '3G',\n",
       " 'iPhone.',\n",
       " 'After',\n",
       " '3',\n",
       " 'hrs',\n",
       " 'tweeting',\n",
       " 'at',\n",
       " '#RISE_Austin,',\n",
       " 'it',\n",
       " 'was',\n",
       " 'dead!',\n",
       " 'I',\n",
       " 'need',\n",
       " 'to',\n",
       " 'upgrade.',\n",
       " 'Plugin',\n",
       " 'stations',\n",
       " 'at',\n",
       " '#SXSW.']"
      ]
     },
     "execution_count": 14,
     "metadata": {},
     "output_type": "execute_result"
    }
   ],
   "source": [
    "raw_data.iloc[0].tweet_text.split()"
   ]
  },
  {
   "cell_type": "code",
   "execution_count": 15,
   "metadata": {},
   "outputs": [
    {
     "data": {
      "text/plain": [
       "list"
      ]
     },
     "execution_count": 15,
     "metadata": {},
     "output_type": "execute_result"
    }
   ],
   "source": [
    "test_list = raw_data.iloc[0].tweet_text.split()\n",
    "type(test_list)"
   ]
  },
  {
   "cell_type": "code",
   "execution_count": 16,
   "metadata": {
    "scrolled": true
   },
   "outputs": [
    {
     "data": {
      "text/plain": [
       "Index(['tweet_text', 'emotion_in_tweet_is_directed_at',\n",
       "       'is_there_an_emotion_directed_at_a_brand_or_product', 'split_text'],\n",
       "      dtype='object')"
      ]
     },
     "execution_count": 16,
     "metadata": {},
     "output_type": "execute_result"
    }
   ],
   "source": [
    "df = raw_data\n",
    "df['split_text'] = 0\n",
    "df.columns"
   ]
  },
  {
   "cell_type": "code",
   "execution_count": 17,
   "metadata": {},
   "outputs": [
    {
     "data": {
      "text/plain": [
       "'@teachntech00 New iPad Apps For #SpeechTherapy And Communication Are Showcased At The #SXSW Conference http://ht.ly/49n4M #iear #edchat #asd'"
      ]
     },
     "execution_count": 17,
     "metadata": {},
     "output_type": "execute_result"
    }
   ],
   "source": [
    "raw_data['tweet_text'][5]"
   ]
  },
  {
   "cell_type": "code",
   "execution_count": 18,
   "metadata": {},
   "outputs": [
    {
     "name": "stderr",
     "output_type": "stream",
     "text": [
      "/Users/adamroth/opt/anaconda3/envs/learn-env/lib/python3.6/site-packages/ipykernel_launcher.py:4: SettingWithCopyWarning: \n",
      "A value is trying to be set on a copy of a slice from a DataFrame\n",
      "\n",
      "See the caveats in the documentation: http://pandas.pydata.org/pandas-docs/stable/user_guide/indexing.html#returning-a-view-versus-a-copy\n",
      "  after removing the cwd from sys.path.\n",
      "/Users/adamroth/opt/anaconda3/envs/learn-env/lib/python3.6/site-packages/pandas/core/indexing.py:205: SettingWithCopyWarning: \n",
      "A value is trying to be set on a copy of a slice from a DataFrame\n",
      "\n",
      "See the caveats in the documentation: http://pandas.pydata.org/pandas-docs/stable/user_guide/indexing.html#returning-a-view-versus-a-copy\n",
      "  self._setitem_with_indexer(indexer, value)\n"
     ]
    }
   ],
   "source": [
    "for i in range(0,len(raw_data)):\n",
    "    text = raw_data['tweet_text'][i]\n",
    "    split_text = str(text).split()\n",
    "    df['split_text'][i] = split_text\n",
    "    \n",
    "    \n",
    "\n"
   ]
  },
  {
   "cell_type": "code",
   "execution_count": 19,
   "metadata": {
    "scrolled": true
   },
   "outputs": [
    {
     "data": {
      "text/plain": [
       "['@sxtxstate',\n",
       " 'great',\n",
       " 'stuff',\n",
       " 'on',\n",
       " 'Fri',\n",
       " '#SXSW:',\n",
       " 'Marissa',\n",
       " 'Mayer',\n",
       " '(Google),',\n",
       " 'Tim',\n",
       " \"O'Reilly\",\n",
       " '(tech',\n",
       " 'books/conferences)',\n",
       " '&amp;',\n",
       " 'Matt',\n",
       " 'Mullenweg',\n",
       " '(Wordpress)']"
      ]
     },
     "execution_count": 19,
     "metadata": {},
     "output_type": "execute_result"
    }
   ],
   "source": [
    "df['split_text'][4]"
   ]
  },
  {
   "cell_type": "code",
   "execution_count": 20,
   "metadata": {},
   "outputs": [
    {
     "data": {
      "text/plain": [
       "'!\"#$%&\\'()*+,-./:;<=>?@[\\\\]^_`{|}~'"
      ]
     },
     "execution_count": 20,
     "metadata": {},
     "output_type": "execute_result"
    }
   ],
   "source": [
    "import string\n",
    "punctuation = string.punctuation\n",
    "punctuation"
   ]
  },
  {
   "cell_type": "code",
   "execution_count": 21,
   "metadata": {},
   "outputs": [],
   "source": [
    "def clean_punct(string):\n",
    "\n",
    "    clean_text_list = [''.join(ch for ch in s if ch not in punctuation) for s in string]\n",
    "    \n",
    "    #clean_text = \"\"\n",
    "    \n",
    "    #return (clean_text.join(clean_text_list))\n",
    "    return clean_text_list\n",
    "#cleans up punctuation"
   ]
  },
  {
   "cell_type": "code",
   "execution_count": 22,
   "metadata": {
    "scrolled": false
   },
   "outputs": [
    {
     "name": "stdout",
     "output_type": "stream",
     "text": [
      "['', 's', 'x', 't', 'x', 's', 't', 'a', 't', 'e']\n"
     ]
    }
   ],
   "source": [
    "string = \"@sxtxstate\"\n",
    "clean_punct(string)\n",
    "print(clean_punct(string))"
   ]
  },
  {
   "cell_type": "code",
   "execution_count": 23,
   "metadata": {},
   "outputs": [
    {
     "data": {
      "text/plain": [
       "['sxtxstate',\n",
       " 'great',\n",
       " 'stuff',\n",
       " 'on',\n",
       " 'Fri',\n",
       " 'SXSW',\n",
       " 'Marissa',\n",
       " 'Mayer',\n",
       " 'Google',\n",
       " 'Tim',\n",
       " 'OReilly',\n",
       " 'tech',\n",
       " 'booksconferences',\n",
       " 'amp',\n",
       " 'Matt',\n",
       " 'Mullenweg',\n",
       " 'Wordpress']"
      ]
     },
     "execution_count": 23,
     "metadata": {},
     "output_type": "execute_result"
    }
   ],
   "source": [
    "clean_punct(df['split_text'][4])"
   ]
  },
  {
   "cell_type": "code",
   "execution_count": 24,
   "metadata": {},
   "outputs": [],
   "source": [
    "# def clean_column(df['column']):\n",
    "#     for i in range(0, len(df)):\n",
    "#         thing = df['column'][i]\n",
    "#         clean_string = str(thing)\n",
    "#         return "
   ]
  },
  {
   "cell_type": "code",
   "execution_count": 25,
   "metadata": {},
   "outputs": [],
   "source": [
    "df['no_punct'] = 0"
   ]
  },
  {
   "cell_type": "code",
   "execution_count": 26,
   "metadata": {},
   "outputs": [
    {
     "name": "stderr",
     "output_type": "stream",
     "text": [
      "/Users/adamroth/opt/anaconda3/envs/learn-env/lib/python3.6/site-packages/ipykernel_launcher.py:4: SettingWithCopyWarning: \n",
      "A value is trying to be set on a copy of a slice from a DataFrame\n",
      "\n",
      "See the caveats in the documentation: http://pandas.pydata.org/pandas-docs/stable/user_guide/indexing.html#returning-a-view-versus-a-copy\n",
      "  after removing the cwd from sys.path.\n"
     ]
    }
   ],
   "source": [
    "for i in range(0, len(df)):\n",
    "    has_punct = df['split_text'][i]\n",
    "    no_punct = clean_punct(has_punct)\n",
    "    df['no_punct'][i] = no_punct"
   ]
  },
  {
   "cell_type": "code",
   "execution_count": 27,
   "metadata": {},
   "outputs": [
    {
     "data": {
      "text/plain": [
       "['jessedee',\n",
       " 'Know',\n",
       " 'about',\n",
       " 'fludapp',\n",
       " '',\n",
       " 'Awesome',\n",
       " 'iPadiPhone',\n",
       " 'app',\n",
       " 'that',\n",
       " 'youll',\n",
       " 'likely',\n",
       " 'appreciate',\n",
       " 'for',\n",
       " 'its',\n",
       " 'design',\n",
       " 'Also',\n",
       " 'theyre',\n",
       " 'giving',\n",
       " 'free',\n",
       " 'Ts',\n",
       " 'at',\n",
       " 'SXSW']"
      ]
     },
     "execution_count": 27,
     "metadata": {},
     "output_type": "execute_result"
    }
   ],
   "source": [
    "df['no_punct'][1]"
   ]
  },
  {
   "cell_type": "code",
   "execution_count": 28,
   "metadata": {},
   "outputs": [
    {
     "data": {
      "text/plain": [
       "0    0\n",
       "1    0\n",
       "2    0\n",
       "3    0\n",
       "4    0\n",
       "Name: clean, dtype: int64"
      ]
     },
     "execution_count": 28,
     "metadata": {},
     "output_type": "execute_result"
    }
   ],
   "source": [
    "df['clean'] = 0\n",
    "df['clean'].head()"
   ]
  },
  {
   "cell_type": "code",
   "execution_count": 29,
   "metadata": {},
   "outputs": [
    {
     "name": "stderr",
     "output_type": "stream",
     "text": [
      "/Users/adamroth/opt/anaconda3/envs/learn-env/lib/python3.6/site-packages/ipykernel_launcher.py:4: SettingWithCopyWarning: \n",
      "A value is trying to be set on a copy of a slice from a DataFrame\n",
      "\n",
      "See the caveats in the documentation: http://pandas.pydata.org/pandas-docs/stable/user_guide/indexing.html#returning-a-view-versus-a-copy\n",
      "  after removing the cwd from sys.path.\n"
     ]
    }
   ],
   "source": [
    "for i in range(0, len(df)):\n",
    "    a = df['no_punct'][i]\n",
    "    now_lower = str(a).lower()\n",
    "    df['clean'][i] = now_lower\n",
    "#I'm a dumb dumb who forgot that df.apply is a thing"
   ]
  },
  {
   "cell_type": "code",
   "execution_count": 30,
   "metadata": {},
   "outputs": [
    {
     "data": {
      "text/plain": [
       "0    ['wesley83', 'i', 'have', 'a', '3g', 'iphone',...\n",
       "1    ['jessedee', 'know', 'about', 'fludapp', '', '...\n",
       "2    ['swonderlin', 'can', 'not', 'wait', 'for', 'i...\n",
       "3    ['sxsw', 'i', 'hope', 'this', 'years', 'festiv...\n",
       "4    ['sxtxstate', 'great', 'stuff', 'on', 'fri', '...\n",
       "Name: clean, dtype: object"
      ]
     },
     "execution_count": 30,
     "metadata": {},
     "output_type": "execute_result"
    }
   ],
   "source": [
    "df['clean'].head()"
   ]
  },
  {
   "cell_type": "code",
   "execution_count": 31,
   "metadata": {},
   "outputs": [
    {
     "name": "stdout",
     "output_type": "stream",
     "text": [
      "9093\n"
     ]
    },
    {
     "data": {
      "text/html": [
       "<div>\n",
       "<style scoped>\n",
       "    .dataframe tbody tr th:only-of-type {\n",
       "        vertical-align: middle;\n",
       "    }\n",
       "\n",
       "    .dataframe tbody tr th {\n",
       "        vertical-align: top;\n",
       "    }\n",
       "\n",
       "    .dataframe thead th {\n",
       "        text-align: right;\n",
       "    }\n",
       "</style>\n",
       "<table border=\"1\" class=\"dataframe\">\n",
       "  <thead>\n",
       "    <tr style=\"text-align: right;\">\n",
       "      <th></th>\n",
       "      <th>tweet_text</th>\n",
       "      <th>emotion_in_tweet_is_directed_at</th>\n",
       "      <th>is_there_an_emotion_directed_at_a_brand_or_product</th>\n",
       "      <th>split_text</th>\n",
       "      <th>no_punct</th>\n",
       "      <th>clean</th>\n",
       "    </tr>\n",
       "  </thead>\n",
       "  <tbody>\n",
       "    <tr>\n",
       "      <td>2255</td>\n",
       "      <td>Going to be awesome! RT @mention Gallery of or...</td>\n",
       "      <td>NaN</td>\n",
       "      <td>No emotion toward brand or product</td>\n",
       "      <td>[Going, to, be, awesome!, RT, @mention, Galler...</td>\n",
       "      <td>[Going, to, be, awesome, RT, mention, Gallery,...</td>\n",
       "      <td>['going', 'to', 'be', 'awesome', 'rt', 'mentio...</td>\n",
       "    </tr>\n",
       "    <tr>\n",
       "      <td>5511</td>\n",
       "      <td>RT @mention At #sxsw? @mention / @mention wann...</td>\n",
       "      <td>NaN</td>\n",
       "      <td>No emotion toward brand or product</td>\n",
       "      <td>[RT, @mention, At, #sxsw?, @mention, /, @menti...</td>\n",
       "      <td>[RT, mention, At, sxsw, mention, , mention, wa...</td>\n",
       "      <td>['rt', 'mention', 'at', 'sxsw', 'mention', '',...</td>\n",
       "    </tr>\n",
       "    <tr>\n",
       "      <td>1045</td>\n",
       "      <td>ÛÏ@mention RT @mention Google to Launch New S...</td>\n",
       "      <td>NaN</td>\n",
       "      <td>No emotion toward brand or product</td>\n",
       "      <td>[ÛÏ@mention, RT, @mention, Google, to, Launch...</td>\n",
       "      <td>[ÛÏmention, RT, mention, Google, to, Launch, ...</td>\n",
       "      <td>['\\x89ûïmention', 'rt', 'mention', 'google', '...</td>\n",
       "    </tr>\n",
       "    <tr>\n",
       "      <td>4425</td>\n",
       "      <td>My post on Google/Bing Q/A with @mention @ment...</td>\n",
       "      <td>NaN</td>\n",
       "      <td>No emotion toward brand or product</td>\n",
       "      <td>[My, post, on, Google/Bing, Q/A, with, @mentio...</td>\n",
       "      <td>[My, post, on, GoogleBing, QA, with, mention, ...</td>\n",
       "      <td>['my', 'post', 'on', 'googlebing', 'qa', 'with...</td>\n",
       "    </tr>\n",
       "    <tr>\n",
       "      <td>3121</td>\n",
       "      <td>#sxsw is exposing my iphone's horrendous batte...</td>\n",
       "      <td>iPhone</td>\n",
       "      <td>Negative emotion</td>\n",
       "      <td>[#sxsw, is, exposing, my, iphone's, horrendous...</td>\n",
       "      <td>[sxsw, is, exposing, my, iphones, horrendous, ...</td>\n",
       "      <td>['sxsw', 'is', 'exposing', 'my', 'iphones', 'h...</td>\n",
       "    </tr>\n",
       "    <tr>\n",
       "      <td>4298</td>\n",
       "      <td>yup. RT @mention @mention at #sxsw: &amp;quot;appl...</td>\n",
       "      <td>Apple</td>\n",
       "      <td>Positive emotion</td>\n",
       "      <td>[yup., RT, @mention, @mention, at, #sxsw:, &amp;qu...</td>\n",
       "      <td>[yup, RT, mention, mention, at, sxsw, quotappl...</td>\n",
       "      <td>['yup', 'rt', 'mention', 'mention', 'at', 'sxs...</td>\n",
       "    </tr>\n",
       "    <tr>\n",
       "      <td>7301</td>\n",
       "      <td>just a tip for @mention iphone users. turn dow...</td>\n",
       "      <td>NaN</td>\n",
       "      <td>No emotion toward brand or product</td>\n",
       "      <td>[just, a, tip, for, @mention, iphone, users., ...</td>\n",
       "      <td>[just, a, tip, for, mention, iphone, users, tu...</td>\n",
       "      <td>['just', 'a', 'tip', 'for', 'mention', 'iphone...</td>\n",
       "    </tr>\n",
       "    <tr>\n",
       "      <td>8168</td>\n",
       "      <td>AGREED! RT @mention If u could afford to atten...</td>\n",
       "      <td>NaN</td>\n",
       "      <td>No emotion toward brand or product</td>\n",
       "      <td>[AGREED!, RT, @mention, If, u, could, afford, ...</td>\n",
       "      <td>[AGREED, RT, mention, If, u, could, afford, to...</td>\n",
       "      <td>['agreed', 'rt', 'mention', 'if', 'u', 'could'...</td>\n",
       "    </tr>\n",
       "    <tr>\n",
       "      <td>3179</td>\n",
       "      <td>No ipad2 for me. Now I have 3 weeks w no iPad ...</td>\n",
       "      <td>NaN</td>\n",
       "      <td>Positive emotion</td>\n",
       "      <td>[No, ipad2, for, me., Now, I, have, 3, weeks, ...</td>\n",
       "      <td>[No, ipad2, for, me, Now, I, have, 3, weeks, w...</td>\n",
       "      <td>['no', 'ipad2', 'for', 'me', 'now', 'i', 'have...</td>\n",
       "    </tr>\n",
       "    <tr>\n",
       "      <td>5269</td>\n",
       "      <td>RT @mention #sxsw #csr reporting: Janecek: Mic...</td>\n",
       "      <td>Apple</td>\n",
       "      <td>Negative emotion</td>\n",
       "      <td>[RT, @mention, #sxsw, #csr, reporting:, Janece...</td>\n",
       "      <td>[RT, mention, sxsw, csr, reporting, Janecek, M...</td>\n",
       "      <td>['rt', 'mention', 'sxsw', 'csr', 'reporting', ...</td>\n",
       "    </tr>\n",
       "  </tbody>\n",
       "</table>\n",
       "</div>"
      ],
      "text/plain": [
       "                                             tweet_text  \\\n",
       "2255  Going to be awesome! RT @mention Gallery of or...   \n",
       "5511  RT @mention At #sxsw? @mention / @mention wann...   \n",
       "1045  ÛÏ@mention RT @mention Google to Launch New S...   \n",
       "4425  My post on Google/Bing Q/A with @mention @ment...   \n",
       "3121  #sxsw is exposing my iphone's horrendous batte...   \n",
       "4298  yup. RT @mention @mention at #sxsw: &quot;appl...   \n",
       "7301  just a tip for @mention iphone users. turn dow...   \n",
       "8168  AGREED! RT @mention If u could afford to atten...   \n",
       "3179  No ipad2 for me. Now I have 3 weeks w no iPad ...   \n",
       "5269  RT @mention #sxsw #csr reporting: Janecek: Mic...   \n",
       "\n",
       "     emotion_in_tweet_is_directed_at  \\\n",
       "2255                             NaN   \n",
       "5511                             NaN   \n",
       "1045                             NaN   \n",
       "4425                             NaN   \n",
       "3121                          iPhone   \n",
       "4298                           Apple   \n",
       "7301                             NaN   \n",
       "8168                             NaN   \n",
       "3179                             NaN   \n",
       "5269                           Apple   \n",
       "\n",
       "     is_there_an_emotion_directed_at_a_brand_or_product  \\\n",
       "2255                 No emotion toward brand or product   \n",
       "5511                 No emotion toward brand or product   \n",
       "1045                 No emotion toward brand or product   \n",
       "4425                 No emotion toward brand or product   \n",
       "3121                                   Negative emotion   \n",
       "4298                                   Positive emotion   \n",
       "7301                 No emotion toward brand or product   \n",
       "8168                 No emotion toward brand or product   \n",
       "3179                                   Positive emotion   \n",
       "5269                                   Negative emotion   \n",
       "\n",
       "                                             split_text  \\\n",
       "2255  [Going, to, be, awesome!, RT, @mention, Galler...   \n",
       "5511  [RT, @mention, At, #sxsw?, @mention, /, @menti...   \n",
       "1045  [ÛÏ@mention, RT, @mention, Google, to, Launch...   \n",
       "4425  [My, post, on, Google/Bing, Q/A, with, @mentio...   \n",
       "3121  [#sxsw, is, exposing, my, iphone's, horrendous...   \n",
       "4298  [yup., RT, @mention, @mention, at, #sxsw:, &qu...   \n",
       "7301  [just, a, tip, for, @mention, iphone, users., ...   \n",
       "8168  [AGREED!, RT, @mention, If, u, could, afford, ...   \n",
       "3179  [No, ipad2, for, me., Now, I, have, 3, weeks, ...   \n",
       "5269  [RT, @mention, #sxsw, #csr, reporting:, Janece...   \n",
       "\n",
       "                                               no_punct  \\\n",
       "2255  [Going, to, be, awesome, RT, mention, Gallery,...   \n",
       "5511  [RT, mention, At, sxsw, mention, , mention, wa...   \n",
       "1045  [ÛÏmention, RT, mention, Google, to, Launch, ...   \n",
       "4425  [My, post, on, GoogleBing, QA, with, mention, ...   \n",
       "3121  [sxsw, is, exposing, my, iphones, horrendous, ...   \n",
       "4298  [yup, RT, mention, mention, at, sxsw, quotappl...   \n",
       "7301  [just, a, tip, for, mention, iphone, users, tu...   \n",
       "8168  [AGREED, RT, mention, If, u, could, afford, to...   \n",
       "3179  [No, ipad2, for, me, Now, I, have, 3, weeks, w...   \n",
       "5269  [RT, mention, sxsw, csr, reporting, Janecek, M...   \n",
       "\n",
       "                                                  clean  \n",
       "2255  ['going', 'to', 'be', 'awesome', 'rt', 'mentio...  \n",
       "5511  ['rt', 'mention', 'at', 'sxsw', 'mention', '',...  \n",
       "1045  ['\\x89ûïmention', 'rt', 'mention', 'google', '...  \n",
       "4425  ['my', 'post', 'on', 'googlebing', 'qa', 'with...  \n",
       "3121  ['sxsw', 'is', 'exposing', 'my', 'iphones', 'h...  \n",
       "4298  ['yup', 'rt', 'mention', 'mention', 'at', 'sxs...  \n",
       "7301  ['just', 'a', 'tip', 'for', 'mention', 'iphone...  \n",
       "8168  ['agreed', 'rt', 'mention', 'if', 'u', 'could'...  \n",
       "3179  ['no', 'ipad2', 'for', 'me', 'now', 'i', 'have...  \n",
       "5269  ['rt', 'mention', 'sxsw', 'csr', 'reporting', ...  "
      ]
     },
     "execution_count": 31,
     "metadata": {},
     "output_type": "execute_result"
    }
   ],
   "source": [
    "print(len(df))\n",
    "df.sample(10)"
   ]
  },
  {
   "cell_type": "code",
   "execution_count": 42,
   "metadata": {},
   "outputs": [],
   "source": [
    "sw = stopwords"
   ]
  },
  {
   "cell_type": "code",
   "execution_count": 43,
   "metadata": {},
   "outputs": [],
   "source": [
    "def doc_preparer(doc, stop_words=sw):\n",
    "    '''\n",
    "    \n",
    "    :param doc: a document from the corpus \n",
    "    :return: a document string with words which have been \n",
    "            lemmatized, \n",
    "            parsed for stopwords, \n",
    "            made lowercase,\n",
    "            and stripped of punctuation and numbers.\n",
    "    '''\n",
    "    \n",
    "    regex_token = RegexpTokenizer(r\"([a-zA-Z]+(?:’[a-z]+)?)\")\n",
    "    doc = regex_token.tokenize(doc)\n",
    "    doc = [word.lower() for word in doc]\n",
    "    doc = [word for word in doc if word not in stop_words]\n",
    "    doc = pos_tag(doc)\n",
    "    doc = [(word[0], get_wordnet_pos(word[1])) for word in doc]\n",
    "    lemmatizer = WordNetLemmatizer() \n",
    "    doc = [lemmatizer.lemmatize(word[0], word[1]) for word in doc]\n",
    "    return ' '.join(doc)\n"
   ]
  },
  {
   "cell_type": "code",
   "execution_count": null,
   "metadata": {},
   "outputs": [],
   "source": []
  },
  {
   "cell_type": "code",
   "execution_count": 32,
   "metadata": {},
   "outputs": [
    {
     "name": "stdout",
     "output_type": "stream",
     "text": [
      "5389\n"
     ]
    }
   ],
   "source": [
    "df_no_emo = df[df['is_there_an_emotion_directed_at_a_brand_or_product'] == 'No emotion toward brand or product']\n",
    "print(len(df_no_emo))\n"
   ]
  },
  {
   "cell_type": "code",
   "execution_count": 33,
   "metadata": {},
   "outputs": [
    {
     "data": {
      "text/plain": [
       "570"
      ]
     },
     "execution_count": 33,
     "metadata": {},
     "output_type": "execute_result"
    }
   ],
   "source": [
    "df_neg = df[df['is_there_an_emotion_directed_at_a_brand_or_product'] == 'Negative emotion']\n",
    "len(df_neg)"
   ]
  },
  {
   "cell_type": "code",
   "execution_count": 34,
   "metadata": {
    "scrolled": true
   },
   "outputs": [
    {
     "data": {
      "text/plain": [
       "2978"
      ]
     },
     "execution_count": 34,
     "metadata": {},
     "output_type": "execute_result"
    }
   ],
   "source": [
    "df_pos = df[df['is_there_an_emotion_directed_at_a_brand_or_product'] == 'Positive emotion']\n",
    "len(df_pos)"
   ]
  },
  {
   "cell_type": "code",
   "execution_count": 35,
   "metadata": {},
   "outputs": [
    {
     "name": "stdout",
     "output_type": "stream",
     "text": [
      "156\n"
     ]
    },
    {
     "data": {
      "text/plain": [
       "90     ['thanks', 'to', 'mention', 'for', 'publishing...\n",
       "102    ['\\x89ûïmention', 'quotapple', 'has', 'opened'...\n",
       "237    ['just', 'what', 'america', 'needs', 'rt', 'me...\n",
       "341    ['the', 'queue', 'at', 'the', 'apple', 'store'...\n",
       "368    ['hope', 'its', 'better', 'than', 'wave', 'rt'...\n",
       "Name: clean, dtype: object"
      ]
     },
     "execution_count": 35,
     "metadata": {},
     "output_type": "execute_result"
    }
   ],
   "source": [
    "df_unclear = df[df['is_there_an_emotion_directed_at_a_brand_or_product'] == 'I can\\'t tell']\n",
    "print(len(df_unclear))\n",
    "df_unclear['clean'][:5]"
   ]
  },
  {
   "cell_type": "code",
   "execution_count": 36,
   "metadata": {},
   "outputs": [],
   "source": [
    "X = df_pos.clean.astype('str')\n",
    "y = df.is_there_an_emotion_directed_at_a_brand_or_product"
   ]
  },
  {
   "cell_type": "code",
   "execution_count": 37,
   "metadata": {},
   "outputs": [
    {
     "data": {
      "text/plain": [
       "<WordListCorpusReader in '/Users/adamroth/nltk_data/corpora/stopwords'>"
      ]
     },
     "execution_count": 37,
     "metadata": {},
     "output_type": "execute_result"
    }
   ],
   "source": []
  },
  {
   "cell_type": "code",
   "execution_count": null,
   "metadata": {},
   "outputs": [],
   "source": []
  }
 ],
 "metadata": {
  "kernelspec": {
   "display_name": "learn-env",
   "language": "python",
   "name": "learn-env"
  },
  "language_info": {
   "codemirror_mode": {
    "name": "ipython",
    "version": 3
   },
   "file_extension": ".py",
   "mimetype": "text/x-python",
   "name": "python",
   "nbconvert_exporter": "python",
   "pygments_lexer": "ipython3",
   "version": "3.6.9"
  }
 },
 "nbformat": 4,
 "nbformat_minor": 4
}
