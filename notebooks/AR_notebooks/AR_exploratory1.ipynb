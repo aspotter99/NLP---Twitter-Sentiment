{
 "cells": [
  {
   "cell_type": "code",
   "execution_count": 2,
   "metadata": {},
   "outputs": [
    {
     "name": "stderr",
     "output_type": "stream",
     "text": [
      "[nltk_data] Downloading package stopwords to\n",
      "[nltk_data]     /Users/adamroth/nltk_data...\n",
      "[nltk_data]   Package stopwords is already up-to-date!\n"
     ]
    }
   ],
   "source": [
    "import pandas as pd\n",
    "import nltk\n",
    "from nltk.corpus import stopwords\n",
    "nltk.download('stopwords')\n",
    "from nltk.probability import FreqDist\n",
    "import re\n",
    "from nltk.tokenize import regexp_tokenize, word_tokenize, RegexpTokenizer\n",
    "from nltk.stem import *\n",
    "from nltk.stem import WordNetLemmatizer \n",
    "from nltk import pos_tag\n",
    "from nltk.corpus import wordnet\n",
    "from sklearn.feature_extraction.text import CountVectorizer\n",
    "from sklearn.feature_extraction.text import TfidfVectorizer\n",
    "import os\n",
    "import string\n"
   ]
  },
  {
   "cell_type": "code",
   "execution_count": 3,
   "metadata": {},
   "outputs": [
    {
     "data": {
      "text/plain": [
       "'/Users/adamroth/Documents/flat_fe_work/mod4/week13/NLP---Twitter-Sentiment/notebooks/AR_notebooks'"
      ]
     },
     "execution_count": 3,
     "metadata": {},
     "output_type": "execute_result"
    }
   ],
   "source": [
    "path = os.getcwd()\n",
    "path"
   ]
  },
  {
   "cell_type": "markdown",
   "metadata": {},
   "source": [
    "### basic info"
   ]
  },
  {
   "cell_type": "code",
   "execution_count": 8,
   "metadata": {},
   "outputs": [],
   "source": [
    "raw_data = pd.read_csv('../../data/judge-1377884607_tweet_product_company.csv', encoding = 'latin1')"
   ]
  },
  {
   "cell_type": "code",
   "execution_count": 9,
   "metadata": {},
   "outputs": [
    {
     "data": {
      "text/html": [
       "<div>\n",
       "<style scoped>\n",
       "    .dataframe tbody tr th:only-of-type {\n",
       "        vertical-align: middle;\n",
       "    }\n",
       "\n",
       "    .dataframe tbody tr th {\n",
       "        vertical-align: top;\n",
       "    }\n",
       "\n",
       "    .dataframe thead th {\n",
       "        text-align: right;\n",
       "    }\n",
       "</style>\n",
       "<table border=\"1\" class=\"dataframe\">\n",
       "  <thead>\n",
       "    <tr style=\"text-align: right;\">\n",
       "      <th></th>\n",
       "      <th>tweet_text</th>\n",
       "      <th>emotion_in_tweet_is_directed_at</th>\n",
       "      <th>is_there_an_emotion_directed_at_a_brand_or_product</th>\n",
       "    </tr>\n",
       "  </thead>\n",
       "  <tbody>\n",
       "    <tr>\n",
       "      <td>7937</td>\n",
       "      <td>UberGenius: Uber Is Taking Control of SXSW Ped...</td>\n",
       "      <td>NaN</td>\n",
       "      <td>No emotion toward brand or product</td>\n",
       "    </tr>\n",
       "    <tr>\n",
       "      <td>2239</td>\n",
       "      <td>Marissa Mayer's preso at #sxsw was good. Big a...</td>\n",
       "      <td>NaN</td>\n",
       "      <td>No emotion toward brand or product</td>\n",
       "    </tr>\n",
       "    <tr>\n",
       "      <td>5611</td>\n",
       "      <td>RT @mention Check out the FREE @mention Sample...</td>\n",
       "      <td>Other Apple product or service</td>\n",
       "      <td>Positive emotion</td>\n",
       "    </tr>\n",
       "    <tr>\n",
       "      <td>7183</td>\n",
       "      <td>Apple &amp;quot;Pops Up&amp;quot; Store for SXSW Event...</td>\n",
       "      <td>NaN</td>\n",
       "      <td>No emotion toward brand or product</td>\n",
       "    </tr>\n",
       "    <tr>\n",
       "      <td>7233</td>\n",
       "      <td>checking out iPad 2 @mention the #sxsw pop-up ...</td>\n",
       "      <td>iPad</td>\n",
       "      <td>Positive emotion</td>\n",
       "    </tr>\n",
       "    <tr>\n",
       "      <td>5735</td>\n",
       "      <td>RT @mention For those #notatSXSW (or at #SXSW)...</td>\n",
       "      <td>NaN</td>\n",
       "      <td>No emotion toward brand or product</td>\n",
       "    </tr>\n",
       "    <tr>\n",
       "      <td>8817</td>\n",
       "      <td>#fsw #sxsw for those of you who wanted to know...</td>\n",
       "      <td>NaN</td>\n",
       "      <td>No emotion toward brand or product</td>\n",
       "    </tr>\n",
       "    <tr>\n",
       "      <td>367</td>\n",
       "      <td>ÛÏ@mention Best thing I've heard this weekend...</td>\n",
       "      <td>iPad</td>\n",
       "      <td>Negative emotion</td>\n",
       "    </tr>\n",
       "    <tr>\n",
       "      <td>2592</td>\n",
       "      <td>The Google / ACLU party tonight at #sxsw is th...</td>\n",
       "      <td>Google</td>\n",
       "      <td>Positive emotion</td>\n",
       "    </tr>\n",
       "    <tr>\n",
       "      <td>4225</td>\n",
       "      <td>kinda jealous of the ubiquity of ipad's here.....</td>\n",
       "      <td>iPad</td>\n",
       "      <td>Positive emotion</td>\n",
       "    </tr>\n",
       "    <tr>\n",
       "      <td>8634</td>\n",
       "      <td>#SXSW party podcasts {link} @mention @mention ...</td>\n",
       "      <td>NaN</td>\n",
       "      <td>No emotion toward brand or product</td>\n",
       "    </tr>\n",
       "    <tr>\n",
       "      <td>4676</td>\n",
       "      <td>You'd think #att would do a better job w/ #sxs...</td>\n",
       "      <td>NaN</td>\n",
       "      <td>No emotion toward brand or product</td>\n",
       "    </tr>\n",
       "    <tr>\n",
       "      <td>3830</td>\n",
       "      <td>Line for iPads at #SXSW. Doesn't look too bad!...</td>\n",
       "      <td>iPad</td>\n",
       "      <td>Positive emotion</td>\n",
       "    </tr>\n",
       "    <tr>\n",
       "      <td>6173</td>\n",
       "      <td>RT @mention It's just crazy to look around sxs...</td>\n",
       "      <td>NaN</td>\n",
       "      <td>No emotion toward brand or product</td>\n",
       "    </tr>\n",
       "    <tr>\n",
       "      <td>3121</td>\n",
       "      <td>#sxsw is exposing my iphone's horrendous batte...</td>\n",
       "      <td>iPhone</td>\n",
       "      <td>Negative emotion</td>\n",
       "    </tr>\n",
       "  </tbody>\n",
       "</table>\n",
       "</div>"
      ],
      "text/plain": [
       "                                             tweet_text  \\\n",
       "7937  UberGenius: Uber Is Taking Control of SXSW Ped...   \n",
       "2239  Marissa Mayer's preso at #sxsw was good. Big a...   \n",
       "5611  RT @mention Check out the FREE @mention Sample...   \n",
       "7183  Apple &quot;Pops Up&quot; Store for SXSW Event...   \n",
       "7233  checking out iPad 2 @mention the #sxsw pop-up ...   \n",
       "5735  RT @mention For those #notatSXSW (or at #SXSW)...   \n",
       "8817  #fsw #sxsw for those of you who wanted to know...   \n",
       "367   ÛÏ@mention Best thing I've heard this weekend...   \n",
       "2592  The Google / ACLU party tonight at #sxsw is th...   \n",
       "4225  kinda jealous of the ubiquity of ipad's here.....   \n",
       "8634  #SXSW party podcasts {link} @mention @mention ...   \n",
       "4676  You'd think #att would do a better job w/ #sxs...   \n",
       "3830  Line for iPads at #SXSW. Doesn't look too bad!...   \n",
       "6173  RT @mention It's just crazy to look around sxs...   \n",
       "3121  #sxsw is exposing my iphone's horrendous batte...   \n",
       "\n",
       "     emotion_in_tweet_is_directed_at  \\\n",
       "7937                             NaN   \n",
       "2239                             NaN   \n",
       "5611  Other Apple product or service   \n",
       "7183                             NaN   \n",
       "7233                            iPad   \n",
       "5735                             NaN   \n",
       "8817                             NaN   \n",
       "367                             iPad   \n",
       "2592                          Google   \n",
       "4225                            iPad   \n",
       "8634                             NaN   \n",
       "4676                             NaN   \n",
       "3830                            iPad   \n",
       "6173                             NaN   \n",
       "3121                          iPhone   \n",
       "\n",
       "     is_there_an_emotion_directed_at_a_brand_or_product  \n",
       "7937                 No emotion toward brand or product  \n",
       "2239                 No emotion toward brand or product  \n",
       "5611                                   Positive emotion  \n",
       "7183                 No emotion toward brand or product  \n",
       "7233                                   Positive emotion  \n",
       "5735                 No emotion toward brand or product  \n",
       "8817                 No emotion toward brand or product  \n",
       "367                                    Negative emotion  \n",
       "2592                                   Positive emotion  \n",
       "4225                                   Positive emotion  \n",
       "8634                 No emotion toward brand or product  \n",
       "4676                 No emotion toward brand or product  \n",
       "3830                                   Positive emotion  \n",
       "6173                 No emotion toward brand or product  \n",
       "3121                                   Negative emotion  "
      ]
     },
     "execution_count": 9,
     "metadata": {},
     "output_type": "execute_result"
    }
   ],
   "source": [
    "raw_data.sample(15)"
   ]
  },
  {
   "cell_type": "code",
   "execution_count": 10,
   "metadata": {},
   "outputs": [
    {
     "data": {
      "text/plain": [
       "2778                               iPad\n",
       "1541                                NaN\n",
       "2687    Other Google product or service\n",
       "4704                                NaN\n",
       "5683                                NaN\n",
       "3037                              Apple\n",
       "1540                               iPad\n",
       "1253                             Google\n",
       "4396                                NaN\n",
       "146                                iPad\n",
       "Name: emotion_in_tweet_is_directed_at, dtype: object"
      ]
     },
     "execution_count": 10,
     "metadata": {},
     "output_type": "execute_result"
    }
   ],
   "source": [
    "raw_data['emotion_in_tweet_is_directed_at'].sample(10)"
   ]
  },
  {
   "cell_type": "code",
   "execution_count": 11,
   "metadata": {},
   "outputs": [
    {
     "data": {
      "text/plain": [
       "array(['iPhone', 'iPad or iPhone App', 'iPad', 'Google', nan, 'Android',\n",
       "       'Apple', 'Android App', 'Other Google product or service',\n",
       "       'Other Apple product or service'], dtype=object)"
      ]
     },
     "execution_count": 11,
     "metadata": {},
     "output_type": "execute_result"
    }
   ],
   "source": [
    "raw_data['emotion_in_tweet_is_directed_at'].unique()"
   ]
  },
  {
   "cell_type": "code",
   "execution_count": 12,
   "metadata": {},
   "outputs": [
    {
     "data": {
      "text/html": [
       "<div>\n",
       "<style scoped>\n",
       "    .dataframe tbody tr th:only-of-type {\n",
       "        vertical-align: middle;\n",
       "    }\n",
       "\n",
       "    .dataframe tbody tr th {\n",
       "        vertical-align: top;\n",
       "    }\n",
       "\n",
       "    .dataframe thead th {\n",
       "        text-align: right;\n",
       "    }\n",
       "</style>\n",
       "<table border=\"1\" class=\"dataframe\">\n",
       "  <thead>\n",
       "    <tr style=\"text-align: right;\">\n",
       "      <th></th>\n",
       "      <th>tweet_text</th>\n",
       "      <th>emotion_in_tweet_is_directed_at</th>\n",
       "      <th>is_there_an_emotion_directed_at_a_brand_or_product</th>\n",
       "    </tr>\n",
       "  </thead>\n",
       "  <tbody>\n",
       "    <tr>\n",
       "      <td>0</td>\n",
       "      <td>False</td>\n",
       "      <td>False</td>\n",
       "      <td>False</td>\n",
       "    </tr>\n",
       "    <tr>\n",
       "      <td>1</td>\n",
       "      <td>False</td>\n",
       "      <td>False</td>\n",
       "      <td>False</td>\n",
       "    </tr>\n",
       "    <tr>\n",
       "      <td>2</td>\n",
       "      <td>False</td>\n",
       "      <td>False</td>\n",
       "      <td>False</td>\n",
       "    </tr>\n",
       "    <tr>\n",
       "      <td>3</td>\n",
       "      <td>False</td>\n",
       "      <td>False</td>\n",
       "      <td>False</td>\n",
       "    </tr>\n",
       "    <tr>\n",
       "      <td>4</td>\n",
       "      <td>False</td>\n",
       "      <td>False</td>\n",
       "      <td>False</td>\n",
       "    </tr>\n",
       "    <tr>\n",
       "      <td>...</td>\n",
       "      <td>...</td>\n",
       "      <td>...</td>\n",
       "      <td>...</td>\n",
       "    </tr>\n",
       "    <tr>\n",
       "      <td>9088</td>\n",
       "      <td>False</td>\n",
       "      <td>False</td>\n",
       "      <td>False</td>\n",
       "    </tr>\n",
       "    <tr>\n",
       "      <td>9089</td>\n",
       "      <td>False</td>\n",
       "      <td>True</td>\n",
       "      <td>False</td>\n",
       "    </tr>\n",
       "    <tr>\n",
       "      <td>9090</td>\n",
       "      <td>False</td>\n",
       "      <td>True</td>\n",
       "      <td>False</td>\n",
       "    </tr>\n",
       "    <tr>\n",
       "      <td>9091</td>\n",
       "      <td>False</td>\n",
       "      <td>True</td>\n",
       "      <td>False</td>\n",
       "    </tr>\n",
       "    <tr>\n",
       "      <td>9092</td>\n",
       "      <td>False</td>\n",
       "      <td>True</td>\n",
       "      <td>False</td>\n",
       "    </tr>\n",
       "  </tbody>\n",
       "</table>\n",
       "<p>9093 rows × 3 columns</p>\n",
       "</div>"
      ],
      "text/plain": [
       "      tweet_text  emotion_in_tweet_is_directed_at  \\\n",
       "0          False                            False   \n",
       "1          False                            False   \n",
       "2          False                            False   \n",
       "3          False                            False   \n",
       "4          False                            False   \n",
       "...          ...                              ...   \n",
       "9088       False                            False   \n",
       "9089       False                             True   \n",
       "9090       False                             True   \n",
       "9091       False                             True   \n",
       "9092       False                             True   \n",
       "\n",
       "      is_there_an_emotion_directed_at_a_brand_or_product  \n",
       "0                                                 False   \n",
       "1                                                 False   \n",
       "2                                                 False   \n",
       "3                                                 False   \n",
       "4                                                 False   \n",
       "...                                                 ...   \n",
       "9088                                              False   \n",
       "9089                                              False   \n",
       "9090                                              False   \n",
       "9091                                              False   \n",
       "9092                                              False   \n",
       "\n",
       "[9093 rows x 3 columns]"
      ]
     },
     "execution_count": 12,
     "metadata": {},
     "output_type": "execute_result"
    }
   ],
   "source": [
    "raw_data.isna()"
   ]
  },
  {
   "cell_type": "code",
   "execution_count": 13,
   "metadata": {},
   "outputs": [
    {
     "data": {
      "text/plain": [
       "tweet_text                                            object\n",
       "emotion_in_tweet_is_directed_at                       object\n",
       "is_there_an_emotion_directed_at_a_brand_or_product    object\n",
       "dtype: object"
      ]
     },
     "execution_count": 13,
     "metadata": {},
     "output_type": "execute_result"
    }
   ],
   "source": [
    "raw_data.dtypes"
   ]
  },
  {
   "cell_type": "code",
   "execution_count": 14,
   "metadata": {},
   "outputs": [
    {
     "data": {
      "text/plain": [
       "iPad                               946\n",
       "Apple                              661\n",
       "iPad or iPhone App                 470\n",
       "Google                             430\n",
       "iPhone                             297\n",
       "Other Google product or service    293\n",
       "Android App                         81\n",
       "Android                             78\n",
       "Other Apple product or service      35\n",
       "Name: emotion_in_tweet_is_directed_at, dtype: int64"
      ]
     },
     "execution_count": 14,
     "metadata": {},
     "output_type": "execute_result"
    }
   ],
   "source": [
    "raw_data['emotion_in_tweet_is_directed_at'].value_counts()"
   ]
  },
  {
   "cell_type": "code",
   "execution_count": 15,
   "metadata": {},
   "outputs": [],
   "source": [
    "#lots of nan's in this column, shouldn't matter while training model though"
   ]
  },
  {
   "cell_type": "code",
   "execution_count": 16,
   "metadata": {
    "scrolled": false
   },
   "outputs": [
    {
     "data": {
      "text/plain": [
       "No emotion toward brand or product    5389\n",
       "Positive emotion                      2978\n",
       "Negative emotion                       570\n",
       "I can't tell                           156\n",
       "Name: is_there_an_emotion_directed_at_a_brand_or_product, dtype: int64"
      ]
     },
     "execution_count": 16,
     "metadata": {},
     "output_type": "execute_result"
    }
   ],
   "source": [
    "raw_data['is_there_an_emotion_directed_at_a_brand_or_product'].value_counts()"
   ]
  },
  {
   "cell_type": "code",
   "execution_count": 17,
   "metadata": {},
   "outputs": [],
   "source": [
    "#not many negatives, might need to mess with that, could use something like smote, might remove all from 'I cant tell'"
   ]
  },
  {
   "cell_type": "markdown",
   "metadata": {},
   "source": [
    "### Tokenization"
   ]
  },
  {
   "cell_type": "code",
   "execution_count": 18,
   "metadata": {},
   "outputs": [
    {
     "ename": "NameError",
     "evalue": "name 'i' is not defined",
     "output_type": "error",
     "traceback": [
      "\u001b[0;31m---------------------------------------------------------------------------\u001b[0m",
      "\u001b[0;31mNameError\u001b[0m                                 Traceback (most recent call last)",
      "\u001b[0;32m<ipython-input-18-f6ec24981925>\u001b[0m in \u001b[0;36m<module>\u001b[0;34m\u001b[0m\n\u001b[0;32m----> 1\u001b[0;31m \u001b[0mraw_data\u001b[0m\u001b[0;34m.\u001b[0m\u001b[0miloc\u001b[0m\u001b[0;34m[\u001b[0m\u001b[0mi\u001b[0m\u001b[0;34m]\u001b[0m\u001b[0;34m.\u001b[0m\u001b[0mtweet_text\u001b[0m\u001b[0;34m\u001b[0m\u001b[0;34m\u001b[0m\u001b[0m\n\u001b[0m",
      "\u001b[0;31mNameError\u001b[0m: name 'i' is not defined"
     ]
    }
   ],
   "source": [
    "raw_data.iloc[i].tweet_text"
   ]
  },
  {
   "cell_type": "code",
   "execution_count": 19,
   "metadata": {},
   "outputs": [
    {
     "data": {
      "text/plain": [
       "['.@wesley83',\n",
       " 'I',\n",
       " 'have',\n",
       " 'a',\n",
       " '3G',\n",
       " 'iPhone.',\n",
       " 'After',\n",
       " '3',\n",
       " 'hrs',\n",
       " 'tweeting',\n",
       " 'at',\n",
       " '#RISE_Austin,',\n",
       " 'it',\n",
       " 'was',\n",
       " 'dead!',\n",
       " 'I',\n",
       " 'need',\n",
       " 'to',\n",
       " 'upgrade.',\n",
       " 'Plugin',\n",
       " 'stations',\n",
       " 'at',\n",
       " '#SXSW.']"
      ]
     },
     "execution_count": 19,
     "metadata": {},
     "output_type": "execute_result"
    }
   ],
   "source": [
    "raw_data.iloc[0].tweet_text.split()"
   ]
  },
  {
   "cell_type": "code",
   "execution_count": 20,
   "metadata": {},
   "outputs": [
    {
     "data": {
      "text/plain": [
       "list"
      ]
     },
     "execution_count": 20,
     "metadata": {},
     "output_type": "execute_result"
    }
   ],
   "source": [
    "test_list = raw_data.iloc[0].tweet_text.split()\n",
    "type(test_list)"
   ]
  },
  {
   "cell_type": "code",
   "execution_count": 21,
   "metadata": {
    "scrolled": true
   },
   "outputs": [
    {
     "data": {
      "text/plain": [
       "Index(['tweet_text', 'emotion_in_tweet_is_directed_at',\n",
       "       'is_there_an_emotion_directed_at_a_brand_or_product', 'split_text'],\n",
       "      dtype='object')"
      ]
     },
     "execution_count": 21,
     "metadata": {},
     "output_type": "execute_result"
    }
   ],
   "source": [
    "df = raw_data\n",
    "df['split_text'] = 0\n",
    "df.columns"
   ]
  },
  {
   "cell_type": "code",
   "execution_count": 22,
   "metadata": {},
   "outputs": [
    {
     "data": {
      "text/plain": [
       "'@teachntech00 New iPad Apps For #SpeechTherapy And Communication Are Showcased At The #SXSW Conference http://ht.ly/49n4M #iear #edchat #asd'"
      ]
     },
     "execution_count": 22,
     "metadata": {},
     "output_type": "execute_result"
    }
   ],
   "source": [
    "raw_data['tweet_text'][5]"
   ]
  },
  {
   "cell_type": "code",
   "execution_count": 23,
   "metadata": {},
   "outputs": [
    {
     "name": "stderr",
     "output_type": "stream",
     "text": [
      "/Users/adamroth/opt/anaconda3/envs/learn-env/lib/python3.6/site-packages/ipykernel_launcher.py:4: SettingWithCopyWarning: \n",
      "A value is trying to be set on a copy of a slice from a DataFrame\n",
      "\n",
      "See the caveats in the documentation: http://pandas.pydata.org/pandas-docs/stable/user_guide/indexing.html#returning-a-view-versus-a-copy\n",
      "  after removing the cwd from sys.path.\n",
      "/Users/adamroth/opt/anaconda3/envs/learn-env/lib/python3.6/site-packages/pandas/core/indexing.py:205: SettingWithCopyWarning: \n",
      "A value is trying to be set on a copy of a slice from a DataFrame\n",
      "\n",
      "See the caveats in the documentation: http://pandas.pydata.org/pandas-docs/stable/user_guide/indexing.html#returning-a-view-versus-a-copy\n",
      "  self._setitem_with_indexer(indexer, value)\n"
     ]
    }
   ],
   "source": [
    "for i in range(0,len(raw_data)):\n",
    "    text = raw_data['tweet_text'][i]\n",
    "    split_text = str(text).split()\n",
    "    df['split_text'][i] = split_text\n",
    "    \n",
    "    \n",
    "\n"
   ]
  },
  {
   "cell_type": "code",
   "execution_count": 24,
   "metadata": {
    "scrolled": true
   },
   "outputs": [
    {
     "data": {
      "text/plain": [
       "['@sxtxstate',\n",
       " 'great',\n",
       " 'stuff',\n",
       " 'on',\n",
       " 'Fri',\n",
       " '#SXSW:',\n",
       " 'Marissa',\n",
       " 'Mayer',\n",
       " '(Google),',\n",
       " 'Tim',\n",
       " \"O'Reilly\",\n",
       " '(tech',\n",
       " 'books/conferences)',\n",
       " '&amp;',\n",
       " 'Matt',\n",
       " 'Mullenweg',\n",
       " '(Wordpress)']"
      ]
     },
     "execution_count": 24,
     "metadata": {},
     "output_type": "execute_result"
    }
   ],
   "source": [
    "df['split_text'][4]"
   ]
  },
  {
   "cell_type": "code",
   "execution_count": 25,
   "metadata": {},
   "outputs": [
    {
     "data": {
      "text/plain": [
       "'!\"#$%&\\'()*+,-./:;<=>?@[\\\\]^_`{|}~'"
      ]
     },
     "execution_count": 25,
     "metadata": {},
     "output_type": "execute_result"
    }
   ],
   "source": [
    "import string\n",
    "punctuation = string.punctuation\n",
    "punctuation"
   ]
  },
  {
   "cell_type": "code",
   "execution_count": 26,
   "metadata": {},
   "outputs": [],
   "source": [
    "def clean_punct(string):\n",
    "\n",
    "    clean_text_list = [''.join(ch for ch in s if ch not in punctuation) for s in string]\n",
    "    \n",
    "    #clean_text = \"\"\n",
    "    \n",
    "    #return (clean_text.join(clean_text_list))\n",
    "    return clean_text_list\n",
    "#cleans up punctuation"
   ]
  },
  {
   "cell_type": "code",
   "execution_count": 27,
   "metadata": {
    "scrolled": false
   },
   "outputs": [
    {
     "name": "stdout",
     "output_type": "stream",
     "text": [
      "['', 's', 'x', 't', 'x', 's', 't', 'a', 't', 'e']\n"
     ]
    }
   ],
   "source": [
    "string = \"@sxtxstate\"\n",
    "clean_punct(string)\n",
    "print(clean_punct(string))"
   ]
  },
  {
   "cell_type": "code",
   "execution_count": 28,
   "metadata": {},
   "outputs": [
    {
     "data": {
      "text/plain": [
       "['sxtxstate',\n",
       " 'great',\n",
       " 'stuff',\n",
       " 'on',\n",
       " 'Fri',\n",
       " 'SXSW',\n",
       " 'Marissa',\n",
       " 'Mayer',\n",
       " 'Google',\n",
       " 'Tim',\n",
       " 'OReilly',\n",
       " 'tech',\n",
       " 'booksconferences',\n",
       " 'amp',\n",
       " 'Matt',\n",
       " 'Mullenweg',\n",
       " 'Wordpress']"
      ]
     },
     "execution_count": 28,
     "metadata": {},
     "output_type": "execute_result"
    }
   ],
   "source": [
    "clean_punct(df['split_text'][4])"
   ]
  },
  {
   "cell_type": "code",
   "execution_count": 29,
   "metadata": {},
   "outputs": [],
   "source": [
    "# def clean_column(df['column']):\n",
    "#     for i in range(0, len(df)):\n",
    "#         thing = df['column'][i]\n",
    "#         clean_string = str(thing)\n",
    "#         return "
   ]
  },
  {
   "cell_type": "code",
   "execution_count": 30,
   "metadata": {},
   "outputs": [],
   "source": [
    "df['no_punct'] = 0"
   ]
  },
  {
   "cell_type": "code",
   "execution_count": 31,
   "metadata": {},
   "outputs": [
    {
     "name": "stderr",
     "output_type": "stream",
     "text": [
      "/Users/adamroth/opt/anaconda3/envs/learn-env/lib/python3.6/site-packages/ipykernel_launcher.py:4: SettingWithCopyWarning: \n",
      "A value is trying to be set on a copy of a slice from a DataFrame\n",
      "\n",
      "See the caveats in the documentation: http://pandas.pydata.org/pandas-docs/stable/user_guide/indexing.html#returning-a-view-versus-a-copy\n",
      "  after removing the cwd from sys.path.\n"
     ]
    }
   ],
   "source": [
    "for i in range(0, len(df)):\n",
    "    has_punct = df['split_text'][i]\n",
    "    no_punct = clean_punct(has_punct)\n",
    "    df['no_punct'][i] = no_punct"
   ]
  },
  {
   "cell_type": "code",
   "execution_count": 32,
   "metadata": {},
   "outputs": [
    {
     "data": {
      "text/plain": [
       "['jessedee',\n",
       " 'Know',\n",
       " 'about',\n",
       " 'fludapp',\n",
       " '',\n",
       " 'Awesome',\n",
       " 'iPadiPhone',\n",
       " 'app',\n",
       " 'that',\n",
       " 'youll',\n",
       " 'likely',\n",
       " 'appreciate',\n",
       " 'for',\n",
       " 'its',\n",
       " 'design',\n",
       " 'Also',\n",
       " 'theyre',\n",
       " 'giving',\n",
       " 'free',\n",
       " 'Ts',\n",
       " 'at',\n",
       " 'SXSW']"
      ]
     },
     "execution_count": 32,
     "metadata": {},
     "output_type": "execute_result"
    }
   ],
   "source": [
    "df['no_punct'][1]"
   ]
  },
  {
   "cell_type": "code",
   "execution_count": 33,
   "metadata": {},
   "outputs": [
    {
     "data": {
      "text/html": [
       "<div>\n",
       "<style scoped>\n",
       "    .dataframe tbody tr th:only-of-type {\n",
       "        vertical-align: middle;\n",
       "    }\n",
       "\n",
       "    .dataframe tbody tr th {\n",
       "        vertical-align: top;\n",
       "    }\n",
       "\n",
       "    .dataframe thead th {\n",
       "        text-align: right;\n",
       "    }\n",
       "</style>\n",
       "<table border=\"1\" class=\"dataframe\">\n",
       "  <thead>\n",
       "    <tr style=\"text-align: right;\">\n",
       "      <th></th>\n",
       "      <th>tweet_text</th>\n",
       "      <th>emotion_in_tweet_is_directed_at</th>\n",
       "      <th>is_there_an_emotion_directed_at_a_brand_or_product</th>\n",
       "      <th>split_text</th>\n",
       "      <th>no_punct</th>\n",
       "    </tr>\n",
       "  </thead>\n",
       "  <tbody>\n",
       "    <tr>\n",
       "      <td>0</td>\n",
       "      <td>.@wesley83 I have a 3G iPhone. After 3 hrs twe...</td>\n",
       "      <td>iPhone</td>\n",
       "      <td>Negative emotion</td>\n",
       "      <td>[.@wesley83, I, have, a, 3G, iPhone., After, 3...</td>\n",
       "      <td>[wesley83, I, have, a, 3G, iPhone, After, 3, h...</td>\n",
       "    </tr>\n",
       "    <tr>\n",
       "      <td>1</td>\n",
       "      <td>@jessedee Know about @fludapp ? Awesome iPad/i...</td>\n",
       "      <td>iPad or iPhone App</td>\n",
       "      <td>Positive emotion</td>\n",
       "      <td>[@jessedee, Know, about, @fludapp, ?, Awesome,...</td>\n",
       "      <td>[jessedee, Know, about, fludapp, , Awesome, iP...</td>\n",
       "    </tr>\n",
       "    <tr>\n",
       "      <td>2</td>\n",
       "      <td>@swonderlin Can not wait for #iPad 2 also. The...</td>\n",
       "      <td>iPad</td>\n",
       "      <td>Positive emotion</td>\n",
       "      <td>[@swonderlin, Can, not, wait, for, #iPad, 2, a...</td>\n",
       "      <td>[swonderlin, Can, not, wait, for, iPad, 2, als...</td>\n",
       "    </tr>\n",
       "    <tr>\n",
       "      <td>3</td>\n",
       "      <td>@sxsw I hope this year's festival isn't as cra...</td>\n",
       "      <td>iPad or iPhone App</td>\n",
       "      <td>Negative emotion</td>\n",
       "      <td>[@sxsw, I, hope, this, year's, festival, isn't...</td>\n",
       "      <td>[sxsw, I, hope, this, years, festival, isnt, a...</td>\n",
       "    </tr>\n",
       "    <tr>\n",
       "      <td>4</td>\n",
       "      <td>@sxtxstate great stuff on Fri #SXSW: Marissa M...</td>\n",
       "      <td>Google</td>\n",
       "      <td>Positive emotion</td>\n",
       "      <td>[@sxtxstate, great, stuff, on, Fri, #SXSW:, Ma...</td>\n",
       "      <td>[sxtxstate, great, stuff, on, Fri, SXSW, Maris...</td>\n",
       "    </tr>\n",
       "  </tbody>\n",
       "</table>\n",
       "</div>"
      ],
      "text/plain": [
       "                                          tweet_text  \\\n",
       "0  .@wesley83 I have a 3G iPhone. After 3 hrs twe...   \n",
       "1  @jessedee Know about @fludapp ? Awesome iPad/i...   \n",
       "2  @swonderlin Can not wait for #iPad 2 also. The...   \n",
       "3  @sxsw I hope this year's festival isn't as cra...   \n",
       "4  @sxtxstate great stuff on Fri #SXSW: Marissa M...   \n",
       "\n",
       "  emotion_in_tweet_is_directed_at  \\\n",
       "0                          iPhone   \n",
       "1              iPad or iPhone App   \n",
       "2                            iPad   \n",
       "3              iPad or iPhone App   \n",
       "4                          Google   \n",
       "\n",
       "  is_there_an_emotion_directed_at_a_brand_or_product  \\\n",
       "0                                   Negative emotion   \n",
       "1                                   Positive emotion   \n",
       "2                                   Positive emotion   \n",
       "3                                   Negative emotion   \n",
       "4                                   Positive emotion   \n",
       "\n",
       "                                          split_text  \\\n",
       "0  [.@wesley83, I, have, a, 3G, iPhone., After, 3...   \n",
       "1  [@jessedee, Know, about, @fludapp, ?, Awesome,...   \n",
       "2  [@swonderlin, Can, not, wait, for, #iPad, 2, a...   \n",
       "3  [@sxsw, I, hope, this, year's, festival, isn't...   \n",
       "4  [@sxtxstate, great, stuff, on, Fri, #SXSW:, Ma...   \n",
       "\n",
       "                                            no_punct  \n",
       "0  [wesley83, I, have, a, 3G, iPhone, After, 3, h...  \n",
       "1  [jessedee, Know, about, fludapp, , Awesome, iP...  \n",
       "2  [swonderlin, Can, not, wait, for, iPad, 2, als...  \n",
       "3  [sxsw, I, hope, this, years, festival, isnt, a...  \n",
       "4  [sxtxstate, great, stuff, on, Fri, SXSW, Maris...  "
      ]
     },
     "execution_count": 33,
     "metadata": {},
     "output_type": "execute_result"
    }
   ],
   "source": [
    "df.head()"
   ]
  },
  {
   "cell_type": "code",
   "execution_count": null,
   "metadata": {},
   "outputs": [],
   "source": []
  },
  {
   "cell_type": "code",
   "execution_count": null,
   "metadata": {},
   "outputs": [],
   "source": []
  },
  {
   "cell_type": "code",
   "execution_count": null,
   "metadata": {},
   "outputs": [],
   "source": []
  }
 ],
 "metadata": {
  "kernelspec": {
   "display_name": "learn-env",
   "language": "python",
   "name": "learn-env"
  },
  "language_info": {
   "codemirror_mode": {
    "name": "ipython",
    "version": 3
   },
   "file_extension": ".py",
   "mimetype": "text/x-python",
   "name": "python",
   "nbconvert_exporter": "python",
   "pygments_lexer": "ipython3",
   "version": "3.6.9"
  }
 },
 "nbformat": 4,
 "nbformat_minor": 4
}
